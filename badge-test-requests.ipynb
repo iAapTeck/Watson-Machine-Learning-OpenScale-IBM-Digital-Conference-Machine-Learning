{
    "cells": [
        {
            "cell_type": "markdown",
            "metadata": {},
            "source": "# Model Scoring with Watson Machine Learning\n\nThis notebook should be run in a Watson Studio project, using Default Python 3.6 runtime environment. It requires service credentials to access the following Cloud services:\n* Watson Machine Learning\n\nThe notebook will submit requests to the German Credit Risk model."
        },
        {
            "cell_type": "markdown",
            "metadata": {
                "collapsed": true
            },
            "source": "#### Dependency Setup"
        },
        {
            "cell_type": "code",
            "execution_count": 1,
            "metadata": {},
            "outputs": [
                {
                    "name": "stdout",
                    "output_type": "stream",
                    "text": "Successfully installed watson-machine-learning-client-1.0.376\r\n"
                }
            ],
            "source": "!pip install --upgrade watson-machine-learning-client | tail -n 1"
        },
        {
            "cell_type": "markdown",
            "metadata": {},
            "source": "#### Configure Service Credentials\n\nUpdate the two cells below with your Cloud API Key and your Watson Machine Learning service credentials."
        },
        {
            "cell_type": "code",
            "execution_count": 2,
            "metadata": {
                "scrolled": true
            },
            "outputs": [],
            "source": "WML_CREDENTIALS = {\n  \"apikey\": \"XycYiznO-hJ4nideySgm4bHOjuzaCAWuU8WNgOpWwms_\",\n  \"iam_apikey_description\": \"Auto-generated for key 40fca5a1-ec33-48c6-a74e-7c8a4f06e6dd\",\n  \"iam_apikey_name\": \"Service credentials-1\",\n  \"iam_role_crn\": \"crn:v1:bluemix:public:iam::::serviceRole:Writer\",\n  \"iam_serviceid_crn\": \"crn:v1:bluemix:public:iam-identity::a/6e8b529cf4cc4ab891306944b91199ec::serviceid:ServiceId-ec2d1bef-6024-434f-9801-dff7fdcb207a\",\n  \"instance_id\": \"e3da0525-31af-4c9e-a2d2-3aad877dd536\",\n  \"url\": \"https://us-south.ml.cloud.ibm.com\"\n}\n"
        },
        {
            "cell_type": "markdown",
            "metadata": {},
            "source": "#### Model Parameters\n\nWe use the same name for the spark model and the deployment to WML.\n\n__Ensure that the two parameters match the model / deployment you have previously subscribed__"
        },
        {
            "cell_type": "code",
            "execution_count": 3,
            "metadata": {},
            "outputs": [],
            "source": "MODEL_NAME = \"Spark German Risk Model\"\nDEPLOYMENT_NAME = \"Spark German Risk Deployment\""
        },
        {
            "cell_type": "markdown",
            "metadata": {},
            "source": "#### Gather Model Information"
        },
        {
            "cell_type": "code",
            "execution_count": 4,
            "metadata": {
                "scrolled": true
            },
            "outputs": [
                {
                    "name": "stdout",
                    "output_type": "stream",
                    "text": "------------------------------------  -----------------------  ------------------------  ---------\nGUID                                  NAME                     CREATED                   FRAMEWORK\n0e47d7a8-6157-48b0-ac8a-71f05aa9cceb  Spark German Risk Model  2019-11-12T17:04:51.177Z  mllib-2.3\n------------------------------------  -----------------------  ------------------------  ---------\nModel id: 0e47d7a8-6157-48b0-ac8a-71f05aa9cceb\nDeployment id: 95ab5f08-df78-4432-8f3a-d0835a875832\nScoring URL: https://us-south.ml.cloud.ibm.com/v3/wml_instances/e3da0525-31af-4c9e-a2d2-3aad877dd536/deployments/95ab5f08-df78-4432-8f3a-d0835a875832/online\n"
                }
            ],
            "source": "from watson_machine_learning_client import WatsonMachineLearningAPIClient\n\nwml_client = WatsonMachineLearningAPIClient(WML_CREDENTIALS)\nwml_client.repository.list_models()\n\nmodel_uid = None\nwml_models = wml_client.repository.get_details()\nfor model_in in wml_models['models']['resources']:\n    if MODEL_NAME == model_in['entity']['name']:\n        model_uid = model_in['metadata']['guid']\n        break\n\ndeployment_uid = None\ndeployment = None\nscoring_url = None\nwml_deployments = wml_client.deployments.get_details()\nfor deployment_in in wml_deployments['resources']:\n    if DEPLOYMENT_NAME == deployment_in['entity']['name']:\n        deployment_uid = deployment_in['metadata']['guid']\n        scoring_url = deployment_in['entity']['scoring_url']\n        deployment = deployment_in\n        break\n\nif model_uid is None:\n    print(\"No model ...\")\n    \nif deployment_uid is None:\n    print(\"No Model deployment...\")\n    \nprint(\"Model id: {}\".format(model_uid))\nprint(\"Deployment id: {}\".format(deployment_uid))\nprint(\"Scoring URL: {}\".format(scoring_url))"
        },
        {
            "cell_type": "markdown",
            "metadata": {},
            "source": "### Send Requests to Model \n\nUpdate the values below with the payload values you want to submit to the model"
        },
        {
            "cell_type": "code",
            "execution_count": 5,
            "metadata": {
                "scrolled": true
            },
            "outputs": [
                {
                    "name": "stdout",
                    "output_type": "stream",
                    "text": "No Risk\nRisk\nNo Risk\n"
                }
            ],
            "source": "import json\n\nfields = [\"CheckingStatus\",\"LoanDuration\",\"CreditHistory\",\"LoanPurpose\",\"LoanAmount\",\"ExistingSavings\",\"EmploymentDuration\",\"InstallmentPercent\",\"Sex\",\"OthersOnLoan\",\"CurrentResidenceDuration\",\"OwnsProperty\",\"Age\",\"InstallmentPlans\",\"Housing\",\"ExistingCreditsCount\",\"Job\",\"Dependents\",\"Telephone\",\"ForeignWorker\"]\nvalues = [\n    [\"greater_200\",17,\"outstanding_credit\",\"radio_tv\",5181,\"100_to_500\",\"1_to_4\",3,\"male\",\"none\",4,\"car_other\",3,\"stores\",\"own\",1,\"skilled\",1,\"none\",\"yes\"],\n    [\"no_checking\",34,\"outstanding_credit\",\"repairs\",6008,\"500_to_1000\",\"greater_7\",5,\"male\",\"co-applicant\",3,\"savings_insurance\",35,\"none\", \"free\", 2, \"management_self-employed\", 1, \"yes\", \"yes\"],\n    [\"no_checking\", 23, \"outstanding_credit\", \"business\", 2817, \"500_to_1000\", \"1_to_4\", 4, \"male\", \"none\", 4, \"savings_insurance\", 35, \"none\", \"own\", 1, \"management_self-employed\", 1, \"yes\", \"yes\"]\n]\n\npayload_scoring = {\"fields\": fields,\"values\": values}\nscoring_response = wml_client.deployments.score(scoring_url, payload_scoring)\n\nfor val in scoring_response['values']:\n    print(val[len(val) -1 ])\n"
        },
        {
            "cell_type": "markdown",
            "metadata": {},
            "source": "## Next steps\n\n\n__Use the output from the cell above to validate your participation in the lab for a badge.__\n"
        },
        {
            "cell_type": "code",
            "execution_count": null,
            "metadata": {},
            "outputs": [],
            "source": ""
        }
    ],
    "metadata": {
        "kernelspec": {
            "display_name": "Python 3.6",
            "language": "python",
            "name": "python3"
        },
        "language_info": {
            "codemirror_mode": {
                "name": "ipython",
                "version": 3
            },
            "file_extension": ".py",
            "mimetype": "text/x-python",
            "name": "python",
            "nbconvert_exporter": "python",
            "pygments_lexer": "ipython3",
            "version": "3.6.8"
        }
    },
    "nbformat": 4,
    "nbformat_minor": 1
}